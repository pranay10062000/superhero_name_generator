{
  "nbformat": 4,
  "nbformat_minor": 0,
  "metadata": {
    "accelerator": "TPU",
    "colab": {
      "name": "Copy of Superhero Name Generator - Learner.ipynb",
      "provenance": [],
      "collapsed_sections": [],
      "include_colab_link": true
    },
    "kernelspec": {
      "display_name": "Python 3",
      "language": "python",
      "name": "python3"
    },
    "language_info": {
      "codemirror_mode": {
        "name": "ipython",
        "version": 3
      },
      "file_extension": ".py",
      "mimetype": "text/x-python",
      "name": "python",
      "nbconvert_exporter": "python",
      "pygments_lexer": "ipython3",
      "version": "3.8.3"
    }
  },
  "cells": [
    {
      "cell_type": "markdown",
      "metadata": {
        "id": "view-in-github",
        "colab_type": "text"
      },
      "source": [
        "<a href=\"https://colab.research.google.com/github/pranay10062000/superhero_name_generator/blob/main/Copy_of_Superhero_Name_Generator_Learner.ipynb\" target=\"_parent\"><img src=\"https://colab.research.google.com/assets/colab-badge.svg\" alt=\"Open In Colab\"/></a>"
      ]
    },
    {
      "cell_type": "markdown",
      "metadata": {
        "id": "21XXWP7Fpt2L"
      },
      "source": [
        "# Superhero (and Supervillain) Name Generator\n",
        "\n",
        "---\n",
        "\n",
        "[Superhero Names Dataset](https://github.com/am1tyadav/superhero)"
      ]
    },
    {
      "cell_type": "markdown",
      "metadata": {
        "id": "H6P0NU5Cpt2R"
      },
      "source": [
        "## Task 2\n",
        "\n",
        "1. Import the data\n",
        "2. Create a tokenizer\n",
        "3. Char to index and Index to char dictionaries"
      ]
    },
    {
      "cell_type": "code",
      "metadata": {
        "colab": {
          "base_uri": "https://localhost:8080/",
          "height": 35
        },
        "id": "uq4CLmsLpt2P",
        "outputId": "2d7b06b9-336a-4e31-d54e-b2291c940194"
      },
      "source": [
        "with open(\"superhero/superheroes.txt\", 'r') as f:\n",
        "  data=f.read()\n",
        "data[:100]"
      ],
      "execution_count": null,
      "outputs": [
        {
          "output_type": "execute_result",
          "data": {
            "application/vnd.google.colaboratory.intrinsic+json": {
              "type": "string"
            },
            "text/plain": [
              "'jumpa\\t\\ndoctor fate\\t\\nstarlight\\t\\nisildur\\t\\nlasher\\t\\nvarvara\\t\\nthe target\\t\\naxel\\t\\nbattra\\t\\nchangeling\\t\\npyrrh'"
            ]
          },
          "metadata": {
            "tags": []
          },
          "execution_count": 3
        }
      ]
    },
    {
      "cell_type": "code",
      "metadata": {
        "colab": {
          "base_uri": "https://localhost:8080/"
        },
        "id": "JqhtLuAHpt2R",
        "outputId": "9dfb670a-7688-48b4-daec-6f50bf2e3a70"
      },
      "source": [
        "import tensorflow as tf\n",
        "print(tf.__version__)"
      ],
      "execution_count": null,
      "outputs": [
        {
          "output_type": "stream",
          "text": [
            "2.5.0\n"
          ],
          "name": "stdout"
        }
      ]
    },
    {
      "cell_type": "code",
      "metadata": {
        "id": "95Lo1Yqzpt2T"
      },
      "source": [
        "tokenizer = tf.keras.preprocessing.text.Tokenizer(\n",
        "    filters='!\"#$%&()*+,-./:;<=>?@[\\\\]^_`{|}~',\n",
        "    split='\\n',\n",
        ")"
      ],
      "execution_count": null,
      "outputs": []
    },
    {
      "cell_type": "code",
      "metadata": {
        "id": "qYfC4sj2pt2V"
      },
      "source": [
        "tokenizer.fit_on_texts(data)"
      ],
      "execution_count": null,
      "outputs": []
    },
    {
      "cell_type": "code",
      "metadata": {
        "colab": {
          "base_uri": "https://localhost:8080/"
        },
        "id": "EO4-dPM6pt2X",
        "outputId": "9c8051e6-8244-4bf7-866f-99db463f939d"
      },
      "source": [
        "char_to_index = tokenizer.word_index\n",
        "index_to_char = dict((v,k) for k,v in char_to_index.items())\n",
        "\n",
        "print(index_to_char)"
      ],
      "execution_count": null,
      "outputs": [
        {
          "output_type": "stream",
          "text": [
            "{1: '\\t', 2: 'a', 3: 'e', 4: 'r', 5: 'o', 6: 'n', 7: 'i', 8: ' ', 9: 't', 10: 's', 11: 'l', 12: 'm', 13: 'h', 14: 'd', 15: 'c', 16: 'u', 17: 'g', 18: 'k', 19: 'b', 20: 'p', 21: 'y', 22: 'w', 23: 'f', 24: 'v', 25: 'j', 26: 'z', 27: 'x', 28: 'q'}\n"
          ],
          "name": "stdout"
        }
      ]
    },
    {
      "cell_type": "markdown",
      "metadata": {
        "id": "SMwtIw_Bpt2Z"
      },
      "source": [
        "## Task 3\n",
        "\n",
        "1. Converting between names and sequences"
      ]
    },
    {
      "cell_type": "code",
      "metadata": {
        "colab": {
          "base_uri": "https://localhost:8080/"
        },
        "id": "N7iQLIXzpt2a",
        "outputId": "3bfd9666-4708-43e2-b12b-76fcbb238965"
      },
      "source": [
        "names=data.splitlines()\n",
        "names[:10]"
      ],
      "execution_count": null,
      "outputs": [
        {
          "output_type": "execute_result",
          "data": {
            "text/plain": [
              "['jumpa\\t',\n",
              " 'doctor fate\\t',\n",
              " 'starlight\\t',\n",
              " 'isildur\\t',\n",
              " 'lasher\\t',\n",
              " 'varvara\\t',\n",
              " 'the target\\t',\n",
              " 'axel\\t',\n",
              " 'battra\\t',\n",
              " 'changeling\\t']"
            ]
          },
          "metadata": {
            "tags": []
          },
          "execution_count": 9
        }
      ]
    },
    {
      "cell_type": "code",
      "metadata": {
        "colab": {
          "base_uri": "https://localhost:8080/"
        },
        "id": "n_-TTfqipt2c",
        "outputId": "3a4ee69f-7f91-42d4-f502-54f0e1ca30d6"
      },
      "source": [
        "tokenizer.texts_to_sequences(names[0])"
      ],
      "execution_count": null,
      "outputs": [
        {
          "output_type": "execute_result",
          "data": {
            "text/plain": [
              "[[25], [16], [12], [20], [2], [1]]"
            ]
          },
          "metadata": {
            "tags": []
          },
          "execution_count": 10
        }
      ]
    },
    {
      "cell_type": "code",
      "metadata": {
        "id": "P6IsKH1Upt2e"
      },
      "source": [
        "def name_to_seq(name):\n",
        "  return [tokenizer.texts_to_sequences(c) [0][0] for c in name]"
      ],
      "execution_count": null,
      "outputs": []
    },
    {
      "cell_type": "code",
      "metadata": {
        "colab": {
          "base_uri": "https://localhost:8080/"
        },
        "id": "TuLUiMP3pt2g",
        "outputId": "2bbe536c-bec1-46a1-c77b-1767e7015a0b"
      },
      "source": [
        "name_to_seq(names[0])"
      ],
      "execution_count": null,
      "outputs": [
        {
          "output_type": "execute_result",
          "data": {
            "text/plain": [
              "[25, 16, 12, 20, 2, 1]"
            ]
          },
          "metadata": {
            "tags": []
          },
          "execution_count": 12
        }
      ]
    },
    {
      "cell_type": "code",
      "metadata": {
        "id": "yFUYhimKpt2h"
      },
      "source": [
        "def seq_to_name(seq):\n",
        "  return ''.join([index_to_char[i] for i in seq if i!=0])"
      ],
      "execution_count": null,
      "outputs": []
    },
    {
      "cell_type": "code",
      "metadata": {
        "colab": {
          "base_uri": "https://localhost:8080/",
          "height": 35
        },
        "id": "ROhCqmhLpt2k",
        "outputId": "4c4e9ec5-4776-4041-a61e-bd907547e387"
      },
      "source": [
        "seq_to_name(name_to_seq(names[0]))"
      ],
      "execution_count": null,
      "outputs": [
        {
          "output_type": "execute_result",
          "data": {
            "application/vnd.google.colaboratory.intrinsic+json": {
              "type": "string"
            },
            "text/plain": [
              "'jumpa\\t'"
            ]
          },
          "metadata": {
            "tags": []
          },
          "execution_count": 14
        }
      ]
    },
    {
      "cell_type": "markdown",
      "metadata": {
        "id": "uCbAzsNjpt2m"
      },
      "source": [
        "## Task 4\n",
        "\n",
        "1. Creating sequences\n",
        "2. Padding all sequences"
      ]
    },
    {
      "cell_type": "code",
      "metadata": {
        "id": "zstNn-0dpt2m"
      },
      "source": [
        "sequences=[]\n",
        "\n",
        "for name in names:\n",
        "  seq=name_to_seq(name)\n",
        "  if( len(seq) >=2):\n",
        "    sequences += [seq[:i] for i in range(2,len(seq)+1)]"
      ],
      "execution_count": null,
      "outputs": []
    },
    {
      "cell_type": "code",
      "metadata": {
        "colab": {
          "base_uri": "https://localhost:8080/"
        },
        "id": "BjRTMysvpt2o",
        "outputId": "22f99d4d-f230-49d0-bb4e-b70b731b9095"
      },
      "source": [
        "sequences[:10]"
      ],
      "execution_count": null,
      "outputs": [
        {
          "output_type": "execute_result",
          "data": {
            "text/plain": [
              "[[25, 16],\n",
              " [25, 16, 12],\n",
              " [25, 16, 12, 20],\n",
              " [25, 16, 12, 20, 2],\n",
              " [25, 16, 12, 20, 2, 1],\n",
              " [14, 5],\n",
              " [14, 5, 15],\n",
              " [14, 5, 15, 9],\n",
              " [14, 5, 15, 9, 5],\n",
              " [14, 5, 15, 9, 5, 4]]"
            ]
          },
          "metadata": {
            "tags": []
          },
          "execution_count": 16
        }
      ]
    },
    {
      "cell_type": "code",
      "metadata": {
        "colab": {
          "base_uri": "https://localhost:8080/"
        },
        "id": "SR68pu2tpt2q",
        "outputId": "665e37af-f922-4e1a-a1c1-0c538cc6ec47"
      },
      "source": [
        " max_len= max(len(x) for x in sequences)\n",
        " print(max_len)"
      ],
      "execution_count": null,
      "outputs": [
        {
          "output_type": "stream",
          "text": [
            "33\n"
          ],
          "name": "stdout"
        }
      ]
    },
    {
      "cell_type": "code",
      "metadata": {
        "colab": {
          "base_uri": "https://localhost:8080/"
        },
        "id": "h_1BtWO7pt2r",
        "outputId": "151c9f87-718c-4243-946c-3432253e2746"
      },
      "source": [
        "padded_sequences= tf.keras.preprocessing.sequence.pad_sequences(\n",
        "    sequences,padding='pre', maxlen=max_len\n",
        ")\n",
        "\n",
        "print(padded_sequences[0])"
      ],
      "execution_count": null,
      "outputs": [
        {
          "output_type": "stream",
          "text": [
            "[ 0  0  0  0  0  0  0  0  0  0  0  0  0  0  0  0  0  0  0  0  0  0  0  0\n",
            "  0  0  0  0  0  0  0 25 16]\n"
          ],
          "name": "stdout"
        }
      ]
    },
    {
      "cell_type": "code",
      "metadata": {
        "colab": {
          "base_uri": "https://localhost:8080/"
        },
        "id": "sPlrLRpSpt2t",
        "outputId": "0406fe6f-f739-4a56-d10c-b82e5f8b5eba"
      },
      "source": [
        "padded_sequences.shape"
      ],
      "execution_count": null,
      "outputs": [
        {
          "output_type": "execute_result",
          "data": {
            "text/plain": [
              "(88279, 33)"
            ]
          },
          "metadata": {
            "tags": []
          },
          "execution_count": 22
        }
      ]
    },
    {
      "cell_type": "markdown",
      "metadata": {
        "id": "iiMRXKzcbeWv"
      },
      "source": [
        "## Task 5: Creating Training and Validation Sets\n",
        "\n",
        "1. Creating training and validation sets"
      ]
    },
    {
      "cell_type": "code",
      "metadata": {
        "colab": {
          "base_uri": "https://localhost:8080/"
        },
        "id": "BE4BIeSnpt2v",
        "outputId": "d261bc9f-4dea-4901-d37e-2efc5c91963a"
      },
      "source": [
        "x,y = padded_sequences[:,:-1], padded_sequences[:,-1]\n",
        "print(x.shape,y.shape)"
      ],
      "execution_count": null,
      "outputs": [
        {
          "output_type": "stream",
          "text": [
            "(88279, 32) (88279,)\n"
          ],
          "name": "stdout"
        }
      ]
    },
    {
      "cell_type": "code",
      "metadata": {
        "id": "dre8E3nDbeWv",
        "colab": {
          "base_uri": "https://localhost:8080/"
        },
        "outputId": "0acabd30-9ff5-4dff-eb1d-4269bca32c69"
      },
      "source": [
        "from sklearn.model_selection import train_test_split\n",
        "\n",
        "x_train,x_test,y_train,y_test = train_test_split(x,y)\n",
        "\n",
        "print(x_train.shape,y_train.shape)\n",
        "print(x_test.shape,y_test.shape)"
      ],
      "execution_count": null,
      "outputs": [
        {
          "output_type": "stream",
          "text": [
            "(66209, 32) (66209,)\n",
            "(22070, 32) (22070,)\n"
          ],
          "name": "stdout"
        }
      ]
    },
    {
      "cell_type": "code",
      "metadata": {
        "colab": {
          "base_uri": "https://localhost:8080/"
        },
        "id": "cgqRZtqnpt2x",
        "outputId": "12823bcd-cf7d-4fd0-d519-a61bde492992"
      },
      "source": [
        "num_chars=len(char_to_index.keys())+1\n",
        "print(num_chars)"
      ],
      "execution_count": null,
      "outputs": [
        {
          "output_type": "stream",
          "text": [
            "29\n"
          ],
          "name": "stdout"
        }
      ]
    },
    {
      "cell_type": "markdown",
      "metadata": {
        "id": "5gGl-oI-beWv"
      },
      "source": [
        "## Task 6: Creating the Model"
      ]
    },
    {
      "cell_type": "code",
      "metadata": {
        "id": "uim86HpBbeWv",
        "colab": {
          "base_uri": "https://localhost:8080/"
        },
        "outputId": "2cd72e81-5ab2-4605-9976-78c20ffba9c0"
      },
      "source": [
        "from tensorflow.keras.models import Sequential\n",
        "from tensorflow.keras.layers import Embedding,Conv1D,MaxPool1D,LSTM\n",
        "from tensorflow.keras.layers import Bidirectional,Dense\n",
        "\n",
        "model= Sequential([\n",
        "                   Embedding(num_chars,8,input_length=max_len-1), \n",
        "                   Conv1D(64,5, strides=1, activation='tanh' , padding='causal'),\n",
        "                   MaxPool1D(2),\n",
        "                   LSTM(32),\n",
        "                   Dense(num_chars,activation='softmax')\n",
        "                   \n",
        "])\n",
        "\n",
        "model.compile(\n",
        "    loss='sparse_categorical_crossentropy',\n",
        "    optimizer='adam',\n",
        "    metrics=['accuracy']\n",
        ")\n",
        "\n",
        "model.summary()"
      ],
      "execution_count": null,
      "outputs": [
        {
          "output_type": "stream",
          "text": [
            "Model: \"sequential\"\n",
            "_________________________________________________________________\n",
            "Layer (type)                 Output Shape              Param #   \n",
            "=================================================================\n",
            "embedding (Embedding)        (None, 32, 8)             232       \n",
            "_________________________________________________________________\n",
            "conv1d (Conv1D)              (None, 32, 64)            2624      \n",
            "_________________________________________________________________\n",
            "max_pooling1d (MaxPooling1D) (None, 16, 64)            0         \n",
            "_________________________________________________________________\n",
            "lstm (LSTM)                  (None, 32)                12416     \n",
            "_________________________________________________________________\n",
            "dense (Dense)                (None, 29)                957       \n",
            "=================================================================\n",
            "Total params: 16,229\n",
            "Trainable params: 16,229\n",
            "Non-trainable params: 0\n",
            "_________________________________________________________________\n"
          ],
          "name": "stdout"
        }
      ]
    },
    {
      "cell_type": "markdown",
      "metadata": {
        "id": "nucv8wDRbeWv"
      },
      "source": [
        "## Task 7: Training the Model"
      ]
    },
    {
      "cell_type": "code",
      "metadata": {
        "colab": {
          "base_uri": "https://localhost:8080/"
        },
        "id": "j0Ssl4qupt22",
        "outputId": "937d73d8-d3e7-4bf0-ae67-8c8a504c9bcf"
      },
      "source": [
        "h= model.fit(\n",
        "    x_train,y_train,\n",
        "    validation_data=(x_test,y_test),\n",
        "    epochs=50, verbose=2,\n",
        "    callbacks=[\n",
        "               tf.keras.callbacks.EarlyStopping(monitor='val_accuracy',patience=3)\n",
        "    ]\n",
        ")"
      ],
      "execution_count": null,
      "outputs": [
        {
          "output_type": "stream",
          "text": [
            "Epoch 1/50\n",
            "2070/2070 - 25s - loss: 2.7259 - accuracy: 0.1934 - val_loss: 2.5620 - val_accuracy: 0.2319\n",
            "Epoch 2/50\n",
            "2070/2070 - 22s - loss: 2.5251 - accuracy: 0.2385 - val_loss: 2.4853 - val_accuracy: 0.2513\n",
            "Epoch 3/50\n",
            "2070/2070 - 22s - loss: 2.4593 - accuracy: 0.2550 - val_loss: 2.4377 - val_accuracy: 0.2635\n",
            "Epoch 4/50\n",
            "2070/2070 - 22s - loss: 2.4145 - accuracy: 0.2677 - val_loss: 2.3997 - val_accuracy: 0.2702\n",
            "Epoch 5/50\n",
            "2070/2070 - 22s - loss: 2.3776 - accuracy: 0.2768 - val_loss: 2.3715 - val_accuracy: 0.2804\n",
            "Epoch 6/50\n",
            "2070/2070 - 22s - loss: 2.3464 - accuracy: 0.2867 - val_loss: 2.3488 - val_accuracy: 0.2905\n",
            "Epoch 7/50\n",
            "2070/2070 - 22s - loss: 2.3182 - accuracy: 0.2965 - val_loss: 2.3263 - val_accuracy: 0.2947\n",
            "Epoch 8/50\n",
            "2070/2070 - 22s - loss: 2.2941 - accuracy: 0.3040 - val_loss: 2.3091 - val_accuracy: 0.3029\n",
            "Epoch 9/50\n",
            "2070/2070 - 22s - loss: 2.2723 - accuracy: 0.3120 - val_loss: 2.3017 - val_accuracy: 0.3065\n",
            "Epoch 10/50\n",
            "2070/2070 - 22s - loss: 2.2519 - accuracy: 0.3194 - val_loss: 2.2817 - val_accuracy: 0.3139\n",
            "Epoch 11/50\n",
            "2070/2070 - 22s - loss: 2.2335 - accuracy: 0.3251 - val_loss: 2.2673 - val_accuracy: 0.3195\n",
            "Epoch 12/50\n",
            "2070/2070 - 22s - loss: 2.2163 - accuracy: 0.3319 - val_loss: 2.2656 - val_accuracy: 0.3210\n",
            "Epoch 13/50\n",
            "2070/2070 - 22s - loss: 2.1999 - accuracy: 0.3362 - val_loss: 2.2550 - val_accuracy: 0.3255\n",
            "Epoch 14/50\n",
            "2070/2070 - 22s - loss: 2.1846 - accuracy: 0.3407 - val_loss: 2.2482 - val_accuracy: 0.3249\n",
            "Epoch 15/50\n",
            "2070/2070 - 22s - loss: 2.1703 - accuracy: 0.3461 - val_loss: 2.2374 - val_accuracy: 0.3309\n",
            "Epoch 16/50\n",
            "2070/2070 - 22s - loss: 2.1570 - accuracy: 0.3505 - val_loss: 2.2319 - val_accuracy: 0.3316\n",
            "Epoch 17/50\n",
            "2070/2070 - 22s - loss: 2.1438 - accuracy: 0.3564 - val_loss: 2.2289 - val_accuracy: 0.3362\n",
            "Epoch 18/50\n",
            "2070/2070 - 22s - loss: 2.1331 - accuracy: 0.3581 - val_loss: 2.2246 - val_accuracy: 0.3384\n",
            "Epoch 19/50\n",
            "2070/2070 - 22s - loss: 2.1220 - accuracy: 0.3626 - val_loss: 2.2208 - val_accuracy: 0.3430\n",
            "Epoch 20/50\n",
            "2070/2070 - 22s - loss: 2.1125 - accuracy: 0.3674 - val_loss: 2.2139 - val_accuracy: 0.3433\n",
            "Epoch 21/50\n",
            "2070/2070 - 22s - loss: 2.1023 - accuracy: 0.3695 - val_loss: 2.2151 - val_accuracy: 0.3438\n",
            "Epoch 22/50\n",
            "2070/2070 - 22s - loss: 2.0936 - accuracy: 0.3726 - val_loss: 2.2092 - val_accuracy: 0.3475\n",
            "Epoch 23/50\n",
            "2070/2070 - 22s - loss: 2.0844 - accuracy: 0.3753 - val_loss: 2.2131 - val_accuracy: 0.3448\n",
            "Epoch 24/50\n",
            "2070/2070 - 22s - loss: 2.0761 - accuracy: 0.3781 - val_loss: 2.2067 - val_accuracy: 0.3497\n",
            "Epoch 25/50\n",
            "2070/2070 - 22s - loss: 2.0683 - accuracy: 0.3802 - val_loss: 2.2047 - val_accuracy: 0.3484\n",
            "Epoch 26/50\n",
            "2070/2070 - 22s - loss: 2.0614 - accuracy: 0.3811 - val_loss: 2.2057 - val_accuracy: 0.3523\n",
            "Epoch 27/50\n",
            "2070/2070 - 22s - loss: 2.0535 - accuracy: 0.3853 - val_loss: 2.2053 - val_accuracy: 0.3460\n",
            "Epoch 28/50\n",
            "2070/2070 - 22s - loss: 2.0472 - accuracy: 0.3846 - val_loss: 2.1991 - val_accuracy: 0.3505\n",
            "Epoch 29/50\n",
            "2070/2070 - 22s - loss: 2.0400 - accuracy: 0.3876 - val_loss: 2.2017 - val_accuracy: 0.3549\n",
            "Epoch 30/50\n",
            "2070/2070 - 22s - loss: 2.0337 - accuracy: 0.3918 - val_loss: 2.1988 - val_accuracy: 0.3545\n",
            "Epoch 31/50\n",
            "2070/2070 - 23s - loss: 2.0264 - accuracy: 0.3923 - val_loss: 2.1991 - val_accuracy: 0.3552\n",
            "Epoch 32/50\n",
            "2070/2070 - 22s - loss: 2.0214 - accuracy: 0.3942 - val_loss: 2.2019 - val_accuracy: 0.3580\n",
            "Epoch 33/50\n",
            "2070/2070 - 22s - loss: 2.0149 - accuracy: 0.3968 - val_loss: 2.1990 - val_accuracy: 0.3574\n",
            "Epoch 34/50\n",
            "2070/2070 - 22s - loss: 2.0098 - accuracy: 0.3975 - val_loss: 2.1983 - val_accuracy: 0.3570\n",
            "Epoch 35/50\n",
            "2070/2070 - 22s - loss: 2.0049 - accuracy: 0.3994 - val_loss: 2.1987 - val_accuracy: 0.3584\n",
            "Epoch 36/50\n",
            "2070/2070 - 22s - loss: 1.9997 - accuracy: 0.4018 - val_loss: 2.2015 - val_accuracy: 0.3578\n",
            "Epoch 37/50\n",
            "2070/2070 - 22s - loss: 1.9942 - accuracy: 0.4037 - val_loss: 2.1970 - val_accuracy: 0.3610\n",
            "Epoch 38/50\n",
            "2070/2070 - 27s - loss: 1.9907 - accuracy: 0.4032 - val_loss: 2.1964 - val_accuracy: 0.3589\n",
            "Epoch 39/50\n",
            "2070/2070 - 24s - loss: 1.9861 - accuracy: 0.4040 - val_loss: 2.2011 - val_accuracy: 0.3599\n",
            "Epoch 40/50\n",
            "2070/2070 - 23s - loss: 1.9811 - accuracy: 0.4069 - val_loss: 2.2028 - val_accuracy: 0.3590\n"
          ],
          "name": "stdout"
        }
      ]
    },
    {
      "cell_type": "code",
      "metadata": {
        "id": "t2vNeoWTuKcj",
        "colab": {
          "base_uri": "https://localhost:8080/",
          "height": 265
        },
        "outputId": "4555db5c-3322-470f-bf3c-15bd8146216a"
      },
      "source": [
        "from matplotlib import pyplot as plt \n",
        "epochs_ran=len(h.history['loss'])\n",
        "\n",
        "plt.plot(range(0,epochs_ran),h.history['val_accuracy'],label=\"validation\")\n",
        "plt.plot(range(0,epochs_ran),h.history['accuracy'],label=\"Training\")\n",
        "plt.legend()\n",
        "plt.show()"
      ],
      "execution_count": null,
      "outputs": [
        {
          "output_type": "display_data",
          "data": {
            "image/png": "[encoded data removed]",
            "text/plain": [
              "<Figure size 432x288 with 1 Axes>"
            ]
          },
          "metadata": {
            "tags": [],
            "needs_background": "light"
          }
        }
      ]
    },
    {
      "cell_type": "markdown",
      "metadata": {
        "id": "9mhh_mvibeWw"
      },
      "source": [
        "## Task 8: Generate Names!"
      ]
    },
    {
      "cell_type": "code",
      "metadata": {
        "id": "9f50aTRcpt24"
      },
      "source": [
        "def generate_names(seed):\n",
        "  for i in range(0,40):\n",
        "    seq=name_to_seq(seed);\n",
        "    padded= tf.keras.preprocessing.sequence.pad_sequences([seq],padding='pre',maxlen=max_len-1,truncating='pre')\n",
        "    pred=model.predict(padded)[0]\n",
        "    pred_char= index_to_char[tf.argmax(pred).numpy()]\n",
        "    seed+=pred_char\n",
        "\n",
        "    if pred_char== '\\t':\n",
        "      break\n",
        "  print(seed)\n",
        "  "
      ],
      "execution_count": null,
      "outputs": []
    },
    {
      "cell_type": "code",
      "metadata": {
        "colab": {
          "base_uri": "https://localhost:8080/"
        },
        "id": "faQ0FInlpt26",
        "outputId": "66f1138f-6ade-4111-c441-f476ea561a89"
      },
      "source": [
        "generate_names('p')"
      ],
      "execution_count": null,
      "outputs": [
        {
          "output_type": "stream",
          "text": [
            "parron man\t\n"
          ],
          "name": "stdout"
        }
      ]
    },
    {
      "cell_type": "code",
      "metadata": {
        "id": "FEOlx-KTxKVk",
        "colab": {
          "base_uri": "https://localhost:8080/"
        },
        "outputId": "dbe9c138-1e47-46a5-bd98-1077d241f22c"
      },
      "source": [
        "generate_names('pn')"
      ],
      "execution_count": null,
      "outputs": [
        {
          "output_type": "stream",
          "text": [
            "pnight ii\t\n"
          ],
          "name": "stdout"
        }
      ]
    },
    {
      "cell_type": "code",
      "metadata": {
        "id": "ODVEc-jZxNAt",
        "colab": {
          "base_uri": "https://localhost:8080/"
        },
        "outputId": "a71f32b3-2c5f-4fce-9457-c4b1a1e8cc43"
      },
      "source": [
        "generate_names(\"n\")"
      ],
      "execution_count": null,
      "outputs": [
        {
          "output_type": "stream",
          "text": [
            "night sarker\t\n"
          ],
          "name": "stdout"
        }
      ]
    },
    {
      "cell_type": "code",
      "metadata": {
        "id": "CDOXRhtwxQw4",
        "colab": {
          "base_uri": "https://localhost:8080/"
        },
        "outputId": "a74375db-4458-4bf1-a4df-1bf424a87654"
      },
      "source": [
        "generate_names('pop')"
      ],
      "execution_count": null,
      "outputs": [
        {
          "output_type": "stream",
          "text": [
            "poper garl\t\n"
          ],
          "name": "stdout"
        }
      ]
    },
    {
      "cell_type": "code",
      "metadata": {
        "id": "zyyPpke7xT26"
      },
      "source": [
        ""
      ],
      "execution_count": null,
      "outputs": []
    }
  ]
}
